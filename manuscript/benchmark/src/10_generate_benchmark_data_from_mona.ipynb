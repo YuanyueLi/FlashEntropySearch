{
 "cells": [
  {
   "cell_type": "code",
   "execution_count": 27,
   "metadata": {},
   "outputs": [],
   "source": [
    "import matplotlib.pyplot as plt\n",
    "import matplotlib as mpl\n",
    "import numpy as np\n",
    "import pandas as pd\n",
    "import json\n",
    "import re\n",
    "from pathlib import Path\n",
    "from mimas.helper.fileio import NumpyEncoder\n",
    "\n",
    "import seaborn as sns\n",
    "from matplotlib import rcParams\n",
    "rcParams['font.family'] = 'sans-serif'\n",
    "rcParams['font.sans-serif'] = ['Helvetica']\n",
    "rcParams['font.size'] = 12\n",
    "rcParams['pdf.fonttype'] = 42\n",
    "rcParams['ps.fonttype'] = 42\n",
    "rcParams['svg.fonttype'] = 'none'\n",
    "\n",
    "path_data = Path().cwd().parent / 'data'\n",
    "\n",
    "path_figures = Path().cwd().parent / 'figures'\n",
    "path_figures.mkdir(parents=True, exist_ok=True)"
   ]
  },
  {
   "cell_type": "code",
   "execution_count": 28,
   "metadata": {},
   "outputs": [],
   "source": [
    "# Download MoNA data from https://mona.fiehnlab.ucdavis.edu/downloads and save it in the data folder\n",
    "import urllib.request\n",
    "import datetime\n",
    "url = r'https://mona.fiehnlab.ucdavis.edu/rest/downloads/retrieve/03d5a22c-c1e1-4101-ac70-9a4eae437ef5'\n",
    "\n",
    "path_mona = path_data / 'mona' / 'raw'\n",
    "path_mona.mkdir(parents=True, exist_ok=True)\n",
    "file_mona = path_mona / f'mona-{datetime.date.today()}.zip'\n",
    "\n",
    "with urllib.request.urlopen(url) as response:\n",
    "    data = response.read()\n",
    "    with open(file_mona, 'wb') as f:\n",
    "        f.write(data)\n"
   ]
  },
  {
   "cell_type": "code",
   "execution_count": 29,
   "metadata": {},
   "outputs": [
    {
     "name": "stdout",
     "output_type": "stream",
     "text": [
      "Number of spectra in P mode: 808784\n",
      "Number of spectra in N mode: 1196680\n"
     ]
    }
   ],
   "source": [
    "# Load spectra from NoNA data\n",
    "from mimas.file_io import spec_file\n",
    "from mimas.spectra.similarity.tools import clean_spectrum\n",
    "\n",
    "all_spectra = {}\n",
    "for spec in spec_file.read_one_spectrum(file_mona):\n",
    "    ion_mode = spec.get(\"ion_mode\", \"\")\n",
    "    if ion_mode in {'P', 'N'}:\n",
    "        try:\n",
    "            precursor_mz = float(spec['precursormz'])\n",
    "            peaks = clean_spectrum(spectrum=spec['peaks'], max_mz=precursor_mz-1.6,\n",
    "                                   noise_threshold=0.01, remove_isotope=True, ms2_da=0.05)\n",
    "        except:\n",
    "            continue\n",
    "\n",
    "        if len(peaks) > 0:\n",
    "            if ion_mode not in all_spectra:\n",
    "                all_spectra[ion_mode] = []\n",
    "            all_spectra[ion_mode].append({'peaks': peaks,\n",
    "                                          'precursor_mz': precursor_mz})\n",
    "\n",
    "# Count number of spectra pre ion mode\n",
    "for ion_mode, spectra in all_spectra.items():\n",
    "    print(f'Number of spectra in {ion_mode} mode: {len(spectra)}')\n"
   ]
  },
  {
   "cell_type": "code",
   "execution_count": 30,
   "metadata": {},
   "outputs": [],
   "source": [
    "# pickle the spectra to file\n",
    "import pickle\n",
    "with open(path_data / 'mona' / 'raw' / 'mona_spectra.pickle', 'wb') as f:\n",
    "    pickle.dump(all_spectra, f)"
   ]
  },
  {
   "cell_type": "code",
   "execution_count": 31,
   "metadata": {},
   "outputs": [
    {
     "name": "stdout",
     "output_type": "stream",
     "text": [
      "Number of spectra in P mode is 808784, less than 1000000\n"
     ]
    }
   ],
   "source": [
    "# Randomly select 100, 1000, 10000, 100000, 1000000 spectra from each ion mode\n",
    "path_output_spectrum = path_data / 'mona' / 'spectral_library'\n",
    "path_output_spectrum.mkdir(parents=True, exist_ok=True)\n",
    "\n",
    "for extract_spectra_number in [100, 1000, 10000, 100000, 1000000]:\n",
    "    for ion_mode in all_spectra:\n",
    "        current_spectra = np.array(all_spectra[ion_mode])\n",
    "        total_spectra_number = len(current_spectra)\n",
    "        replace = False\n",
    "        if extract_spectra_number > total_spectra_number:\n",
    "            print(f'Number of spectra in {ion_mode} mode is {total_spectra_number}, less than {extract_spectra_number}')\n",
    "            replace = True\n",
    "\n",
    "        selected = np.random.choice(total_spectra_number, extract_spectra_number, replace=replace)\n",
    "        selected_spectra = current_spectra[selected].tolist()\n",
    "\n",
    "        with open(path_output_spectrum / f'spectra-charge_{ion_mode}-number_{extract_spectra_number}.pkl', 'wb') as f:\n",
    "            pickle.dump(selected_spectra, f)\n"
   ]
  }
 ],
 "metadata": {
  "kernelspec": {
   "display_name": "py39",
   "language": "python",
   "name": "python3"
  },
  "language_info": {
   "codemirror_mode": {
    "name": "ipython",
    "version": 3
   },
   "file_extension": ".py",
   "mimetype": "text/x-python",
   "name": "python",
   "nbconvert_exporter": "python",
   "pygments_lexer": "ipython3",
   "version": "3.9.15"
  },
  "orig_nbformat": 4
 },
 "nbformat": 4,
 "nbformat_minor": 2
}
