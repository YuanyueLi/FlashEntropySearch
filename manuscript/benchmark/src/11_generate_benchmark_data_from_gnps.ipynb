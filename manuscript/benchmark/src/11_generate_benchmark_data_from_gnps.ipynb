{
 "cells": [
  {
   "cell_type": "code",
   "execution_count": 1,
   "metadata": {},
   "outputs": [],
   "source": [
    "import matplotlib.pyplot as plt\n",
    "import matplotlib as mpl\n",
    "import numpy as np\n",
    "import pandas as pd\n",
    "import json\n",
    "import re\n",
    "from pathlib import Path\n",
    "from mimas.helper.fileio import NumpyEncoder\n",
    "\n",
    "import seaborn as sns\n",
    "from matplotlib import rcParams\n",
    "rcParams['font.family'] = 'sans-serif'\n",
    "rcParams['font.sans-serif'] = ['Helvetica']\n",
    "rcParams['font.size'] = 12\n",
    "rcParams['pdf.fonttype'] = 42\n",
    "rcParams['ps.fonttype'] = 42\n",
    "rcParams['svg.fonttype'] = 'none'\n",
    "\n",
    "path_data = Path().cwd().parent / 'data'\n",
    "\n",
    "path_figures = Path().cwd().parent / 'figures'\n",
    "path_figures.mkdir(parents=True, exist_ok=True)"
   ]
  },
  {
   "cell_type": "code",
   "execution_count": 2,
   "metadata": {},
   "outputs": [],
   "source": [
    "# Download the GNPS library from https://gnps-external.ucsd.edu/gnpslibrary/ALL_GNPS.mgf and save it in the data folder\n",
    "import urllib.request\n",
    "import datetime\n",
    "url = r'https://gnps-external.ucsd.edu/gnpslibrary/ALL_GNPS.mgf'\n",
    "\n",
    "path_gnps = path_data / 'gnps' / 'raw'\n",
    "path_gnps.mkdir(parents=True, exist_ok=True)\n",
    "file_gnps = path_gnps / f'gnps-{datetime.date.today()}.mgf'\n",
    "\n",
    "with urllib.request.urlopen(url) as response:\n",
    "    data = response.read()\n",
    "    with open(file_gnps, 'wb') as f:\n",
    "        f.write(data)"
   ]
  },
  {
   "cell_type": "code",
   "execution_count": 3,
   "metadata": {},
   "outputs": [
    {
     "name": "stdout",
     "output_type": "stream",
     "text": [
      "Number of spectra in P mode: 452239\n",
      "Number of spectra in N mode: 96544\n"
     ]
    }
   ],
   "source": [
    "# Load spectra from GNPS data\n",
    "from mimas.file_io import spec_file\n",
    "from mimas.spectra.similarity.tools import clean_spectrum\n",
    "\n",
    "all_spectra = {}\n",
    "for spec in spec_file.read_one_spectrum(file_gnps):\n",
    "    ion_mode = spec['ionmode'].lower()\n",
    "    if ion_mode == 'positive':\n",
    "        ion_mode = 'P'\n",
    "    elif ion_mode == 'negative':\n",
    "        ion_mode = 'N'\n",
    "    else:\n",
    "        continue\n",
    "\n",
    "    try:\n",
    "        precursor_mz = float(spec['precursor_mz'])\n",
    "        peaks = clean_spectrum(spectrum=spec['peaks'], max_mz=precursor_mz-1.6,\n",
    "                               noise_threshold=0.01, remove_isotope=True, ms2_da=0.05)\n",
    "    except:\n",
    "        continue\n",
    "\n",
    "    if len(peaks) > 0:\n",
    "        if ion_mode not in all_spectra:\n",
    "            all_spectra[ion_mode] = []\n",
    "        all_spectra[ion_mode].append({'peaks': peaks,\n",
    "                                      'precursor_mz': precursor_mz })\n",
    "\n",
    "# Count number of spectra per ion mode\n",
    "for ion_mode, spectra in all_spectra.items():\n",
    "    print(f'Number of spectra in {ion_mode} mode: {len(spectra)}')\n"
   ]
  },
  {
   "cell_type": "code",
   "execution_count": 4,
   "metadata": {},
   "outputs": [],
   "source": [
    "# pickle the spectra to file\n",
    "import pickle\n",
    "with open(path_data / 'gnps' / 'raw' / 'gnps_spectra.pickle', 'wb') as f:\n",
    "    pickle.dump(all_spectra, f)"
   ]
  },
  {
   "cell_type": "code",
   "execution_count": 5,
   "metadata": {},
   "outputs": [
    {
     "name": "stdout",
     "output_type": "stream",
     "text": [
      "Number of spectra in N mode is 96544, less than 100000\n",
      "Number of spectra in P mode is 452239, less than 1000000\n",
      "Number of spectra in N mode is 96544, less than 1000000\n"
     ]
    }
   ],
   "source": [
    "# Randomly select 100, 1000, 10000, 100000, 1000000 spectra from each ion mode\n",
    "path_output_spectrum = path_data / 'gnps' / 'spectral_library'\n",
    "path_output_spectrum.mkdir(parents=True, exist_ok=True)\n",
    "\n",
    "for extract_spectra_number in [100, 1000, 10000, 100000, 1000000]:\n",
    "    for ion_mode in all_spectra:\n",
    "        current_spectra = np.array(all_spectra[ion_mode])\n",
    "        total_spectra_number = len(current_spectra)\n",
    "        replace = False\n",
    "        if extract_spectra_number > total_spectra_number:\n",
    "            print(f'Number of spectra in {ion_mode} mode is {total_spectra_number}, less than {extract_spectra_number}')\n",
    "            replace = True\n",
    "\n",
    "        selected = np.random.choice(total_spectra_number, extract_spectra_number, replace=replace)\n",
    "        selected_spectra = current_spectra[selected].tolist()\n",
    "\n",
    "        with open(path_output_spectrum / f'spectra-charge_{ion_mode}-number_{extract_spectra_number}.pkl', 'wb') as f:\n",
    "            pickle.dump(selected_spectra, f)\n"
   ]
  }
 ],
 "metadata": {
  "kernelspec": {
   "display_name": "py39",
   "language": "python",
   "name": "python3"
  },
  "language_info": {
   "codemirror_mode": {
    "name": "ipython",
    "version": 3
   },
   "file_extension": ".py",
   "mimetype": "text/x-python",
   "name": "python",
   "nbconvert_exporter": "python",
   "pygments_lexer": "ipython3",
   "version": "3.9.15"
  },
  "orig_nbformat": 4
 },
 "nbformat": 4,
 "nbformat_minor": 2
}
